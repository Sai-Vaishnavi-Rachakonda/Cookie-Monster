{
 "cells": [
  {
   "cell_type": "code",
   "execution_count": 90,
   "id": "c5c7a846",
   "metadata": {},
   "outputs": [],
   "source": [
    "from firebase import firebase\n",
    "import pandas as pd\n",
    "import matplotlib.pyplot as plt\n",
    "from collections import Counter"
   ]
  },
  {
   "cell_type": "code",
   "execution_count": 91,
   "id": "8e728d18",
   "metadata": {},
   "outputs": [
    {
     "name": "stdout",
     "output_type": "stream",
     "text": [
      "{'-NNZ-HnWpNTTPxSNCiVf': {'userName': 'testing', 'userScore': 69, 'userTime': 96}, '-NNZO7hsiN86cLw8rfDc': {'userName': 'chetana', 'userScore': 40, 'userTime': 499}, '-NNZg-DDbBjppZChDeeS': {'userName': 'abc', 'userScore': 71, 'userTime': 418}, '-NNckFATqRa8L26zBTsY': {'userName': 'harshita', 'userScore': 65, 'userTime': 248}}\n"
     ]
    }
   ],
   "source": [
    "firebaseObj = firebase.FirebaseApplication('https://demodemo-96d74-default-rtdb.firebaseio.com/', None)\n",
    "result = firebaseObj.get('/', None)\n",
    "print(result)"
   ]
  },
  {
   "cell_type": "code",
   "execution_count": 92,
   "id": "4617bf37",
   "metadata": {},
   "outputs": [],
   "source": [
    "rows = []\n",
    "for i in result:\n",
    "    result[i]['ID'] = i\n",
    "    rows.append(result[i])"
   ]
  },
  {
   "cell_type": "code",
   "execution_count": 93,
   "id": "46caf28b",
   "metadata": {},
   "outputs": [],
   "source": [
    "df = pd.DataFrame(rows)"
   ]
  },
  {
   "cell_type": "code",
   "execution_count": 94,
   "id": "65c66fe6",
   "metadata": {},
   "outputs": [
    {
     "data": {
      "text/html": [
       "<div>\n",
       "<style scoped>\n",
       "    .dataframe tbody tr th:only-of-type {\n",
       "        vertical-align: middle;\n",
       "    }\n",
       "\n",
       "    .dataframe tbody tr th {\n",
       "        vertical-align: top;\n",
       "    }\n",
       "\n",
       "    .dataframe thead th {\n",
       "        text-align: right;\n",
       "    }\n",
       "</style>\n",
       "<table border=\"1\" class=\"dataframe\">\n",
       "  <thead>\n",
       "    <tr style=\"text-align: right;\">\n",
       "      <th></th>\n",
       "      <th>userName</th>\n",
       "      <th>userScore</th>\n",
       "      <th>userTime</th>\n",
       "      <th>ID</th>\n",
       "    </tr>\n",
       "  </thead>\n",
       "  <tbody>\n",
       "    <tr>\n",
       "      <th>0</th>\n",
       "      <td>testing</td>\n",
       "      <td>69</td>\n",
       "      <td>96</td>\n",
       "      <td>-NNZ-HnWpNTTPxSNCiVf</td>\n",
       "    </tr>\n",
       "    <tr>\n",
       "      <th>1</th>\n",
       "      <td>chetana</td>\n",
       "      <td>40</td>\n",
       "      <td>499</td>\n",
       "      <td>-NNZO7hsiN86cLw8rfDc</td>\n",
       "    </tr>\n",
       "    <tr>\n",
       "      <th>2</th>\n",
       "      <td>abc</td>\n",
       "      <td>71</td>\n",
       "      <td>418</td>\n",
       "      <td>-NNZg-DDbBjppZChDeeS</td>\n",
       "    </tr>\n",
       "    <tr>\n",
       "      <th>3</th>\n",
       "      <td>harshita</td>\n",
       "      <td>65</td>\n",
       "      <td>248</td>\n",
       "      <td>-NNckFATqRa8L26zBTsY</td>\n",
       "    </tr>\n",
       "  </tbody>\n",
       "</table>\n",
       "</div>"
      ],
      "text/plain": [
       "   userName  userScore  userTime                    ID\n",
       "0   testing         69        96  -NNZ-HnWpNTTPxSNCiVf\n",
       "1   chetana         40       499  -NNZO7hsiN86cLw8rfDc\n",
       "2       abc         71       418  -NNZg-DDbBjppZChDeeS\n",
       "3  harshita         65       248  -NNckFATqRa8L26zBTsY"
      ]
     },
     "execution_count": 94,
     "metadata": {},
     "output_type": "execute_result"
    }
   ],
   "source": [
    "df"
   ]
  },
  {
   "cell_type": "code",
   "execution_count": 95,
   "id": "d61227ed",
   "metadata": {},
   "outputs": [
    {
     "data": {
      "image/png": "[encoded data removed]",
      "text/plain": [
       "<Figure size 432x288 with 1 Axes>"
      ]
     },
     "metadata": {
      "needs_background": "light"
     },
     "output_type": "display_data"
    }
   ],
   "source": [
    "frequencyTime = Counter(df['userTime']).most_common()\n",
    "x, y = zip(*frequencyTime)\n",
    "plt.bar(x, y,color='plum')\n",
    "plt.xlabel('Game Time')\n",
    "plt.ylabel('Frequency')\n",
    "plt.title('Frequency vs Game Time Graph')\n",
    "plt.show()\n"
   ]
  },
  {
   "cell_type": "code",
   "execution_count": 96,
   "id": "0f794a1f",
   "metadata": {},
   "outputs": [
    {
     "data": {
      "image/png": "[encoded data removed]",
      "text/plain": [
       "<Figure size 432x288 with 1 Axes>"
      ]
     },
     "metadata": {
      "needs_background": "light"
     },
     "output_type": "display_data"
    }
   ],
   "source": [
    "frequencyScore = Counter(df['userScore']).most_common()\n",
    "x, y = zip(*frequencyScore)\n",
    "plt.bar(x, y,  color='teal')\n",
    "plt.xlabel('Game Score')\n",
    "plt.ylabel('Frequency')\n",
    "plt.title('Frequency vs Game Score Graph')\n",
    "plt.show()\n"
   ]
  },
  {
   "cell_type": "code",
   "execution_count": null,
   "id": "2af21263",
   "metadata": {},
   "outputs": [],
   "source": []
  }
 ],
 "metadata": {
  "kernelspec": {
   "display_name": "Python 3 (ipykernel)",
   "language": "python",
   "name": "python3"
  },
  "language_info": {
   "codemirror_mode": {
    "name": "ipython",
    "version": 3
   },
   "file_extension": ".py",
   "mimetype": "text/x-python",
   "name": "python",
   "nbconvert_exporter": "python",
   "pygments_lexer": "ipython3",
   "version": "3.9.12"
  }
 },
 "nbformat": 4,
 "nbformat_minor": 5
}
